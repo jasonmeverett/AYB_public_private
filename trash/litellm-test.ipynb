{
 "cells": [
  {
   "cell_type": "code",
   "execution_count": 1,
   "id": "cdccef5b-cf0f-4ef6-bbc4-3e60e9bb7652",
   "metadata": {},
   "outputs": [],
   "source": [
    "#litellm testing"
   ]
  },
  {
   "cell_type": "code",
   "execution_count": null,
   "id": "d0f9a430-7ae6-4527-8b7e-5eb6faafb25f",
   "metadata": {},
   "outputs": [],
   "source": [
    "import litellm\n",
    "import os\n",
    "import httpx\n",
    "\n",
    "\n",
    "OPENAI_API_KEY=json.load(open(\"/tmp/jwt\"))[\"access_token\"]\n",
    "os.environ[\"OPENAI_API_KEY\"] = OPENAI_API_KEY\n",
    "\n",
    "OPENAI_API_BASE=\"https://ml-cb4a4d8b-dea.env-hack.svbr-nqvp.int.cldr.work/namespaces/serving-default/endpoints/llama-3-1-70b/v1\"\n",
    "os.environ[\"OPENAI_API_BASE\"] = OPENAI_API_BASE\n",
    "\n",
    "OPENAI_MODEL_NAME=\"openai/6lbx-oajq-2ehb-irio\"\n",
    "\n",
    "response = litellm.completion(\n",
    "    model=OPENAI_MODEL_NAME,               # add `openai/` prefix to model so litellm knows to route to OpenAI\n",
    "    api_key=OPENAI_API_KEY,                  # api key to your openai compatible endpoint\n",
    "    api_base=OPENAI_API_BASE,     # set API Base of your Custom OpenAI Endpoint\n",
    "    messages=[\n",
    "                {\n",
    "                    \"role\": \"user\",\n",
    "                    \"content\": \"Hey, how's it going?\",\n",
    "                }\n",
    "    ],\n",
    ")\n",
    "print(response)"
   ]
  }
 ],
 "metadata": {
  "kernelspec": {
   "display_name": "Python 3 (ipykernel)",
   "language": "python",
   "name": "python3"
  },
  "language_info": {
   "codemirror_mode": {
    "name": "ipython",
    "version": 3
   },
   "file_extension": ".py",
   "mimetype": "text/x-python",
   "name": "python",
   "nbconvert_exporter": "python",
   "pygments_lexer": "ipython3",
   "version": "3.10.13"
  }
 },
 "nbformat": 4,
 "nbformat_minor": 5
}
