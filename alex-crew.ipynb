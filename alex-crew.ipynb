{
 "cells": [
  {
   "cell_type": "code",
   "execution_count": 89,
   "id": "882a0d82-0955-4d96-90ee-d3ba260ee02e",
   "metadata": {},
   "outputs": [],
   "source": [
    "from crewai import Agent, Task, Crew, Process\n",
    "from langchain_openai import ChatOpenAI\n",
    "from textwrap import dedent\n",
    "import json\n",
    "import os\n",
    "import litellm\n",
    "litellm.set_verbose=False\n",
    "import openai\n",
    "from openai import OpenAI\n",
    "import httpx\n",
    "\n",
    "\n",
    "OPENAI_API_KEY=json.load(open(\"/tmp/jwt\"))[\"access_token\"]\n",
    "os.environ[\"OPENAI_API_KEY\"] = OPENAI_API_KEY\n",
    "\n",
    "OPENAI_API_BASE=\"https://ml-cb4a4d8b-dea.env-hack.svbr-nqvp.int.cldr.work/namespaces/serving-default/endpoints/llama-3-1-70b/v1\"\n",
    "os.environ[\"OPENAI_API_BASE\"] = OPENAI_API_BASE\n",
    "\n",
    "OPENAI_MODEL_NAME=\"openai/6lbx-oajq-2ehb-irio\"\n",
    "\n",
    "os.environ[\"SSL_VERIFY\"] = \"False\"\n",
    "litellm.ssl_verify=False\n",
    "litellm.client_session=httpx.Client(verify=\"/etc/ssl/certs/ca-certificates.crt\")\n",
    "litellm.aclient_session=httpx.AsyncClient(verify=\"/etc/ssl/certs/ca-certificates.crt\")\n",
    "\n",
    "llm = ChatOpenAI(\n",
    "    http_client = httpx.Client(verify=\"/etc/ssl/certs/ca-certificates.crt\"),\n",
    "    model_name=OPENAI_MODEL_NAME\n",
    ")"
   ]
  },
  {
   "cell_type": "code",
   "execution_count": 90,
   "id": "b4d2da38-ef99-4ddc-b8d1-46e2860978da",
   "metadata": {},
   "outputs": [],
   "source": [
    "from importlib import reload\n",
    "import tools.cdvcase as cdvcase\n",
    "reload(tools.cdvcase)\n",
    "import tools.cdvworkloadusage as cdvworkloadusage\n",
    "reload(tools.cdvworkloadusage)\n",
    "\n",
    "case_search_tool = cdvcase.ToolCDVCaseLookup()\n",
    "workload_usage_tool = cdvworkloadusage.ToolCDVWorkloadUsageLookup()\n"
   ]
  },
  {
   "cell_type": "code",
   "execution_count": 97,
   "id": "af16fab4-31fd-457c-8c7b-64f75dc5065e",
   "metadata": {},
   "outputs": [],
   "source": [
    "# Agent Definitions\n",
    "\n",
    "agent_1 = Agent(\n",
    "    role=dedent((\n",
    "        \"\"\"\n",
    "        Customer information lookup assistant.\n",
    "        \"\"\")), # Think of this as the job title\n",
    "    backstory=dedent((\n",
    "        \"\"\"\n",
    "        You are simple support case lookup assistant, attempting to proivde information about customers.\n",
    "        This may include lookups of filed support cases, or information about customer workload usage.\n",
    "        \n",
    "        \"\"\")), # This is the backstory of the agent, this helps the agent to understand the context of the task\n",
    "    goal=dedent((\n",
    "        \"\"\"\n",
    "        Perform the lookup task assigned to you by appropriate lookup tools and summarize the results found.\n",
    "        \"\"\")), # This is the goal that the agent is trying to achieve\n",
    "    tools=[case_search_tool, workload_usage_tool],\n",
    "    allow_delegation=False,\n",
    "    verbose=False,\n",
    "    max_iter=1,\n",
    "    max_rpm=1,\n",
    "    max_retry_limit=1,\n",
    "    max_retries=1,\n",
    "    llm=llm\n",
    ")\n",
    "\n"
   ]
  },
  {
   "cell_type": "code",
   "execution_count": 98,
   "id": "c9c70867-f456-4eee-84e4-e8206ed6e9fe",
   "metadata": {},
   "outputs": [],
   "source": [
    "# Task Definitions\n",
    "import datetime\n",
    "task_1 = Task(\n",
    "    description=dedent((\n",
    "        \"\"\"\n",
    "        Attempt to answer the user question about the customer\n",
    "        ---\n",
    "        User Input: \"{req_input}\"\n",
    "        \"\"\")),\n",
    "    expected_output=dedent((\n",
    "        \"\"\"\n",
    "        Output should be a well formatted list or statement with the results of the user request.\n",
    "        \"\"\")),\n",
    "    agent=agent_1,\n",
    "    output_file=f'output-files/agent_1-output_{datetime.datetime.now().strftime(\"%Y%m%d_%H%M%S\")}.md'\n",
    "    # ↑ The output of each task iteration will be saved here\n",
    ")\n",
    "task_2 = Task(\n",
    "    description=dedent((\n",
    "        \"\"\"\n",
    "        Look up workload usage metrics used by the specified customer in the User Input\n",
    "        ---\n",
    "        User Input: \"{req_input}\"\n",
    "        \"\"\")),\n",
    "    expected_output=dedent((\n",
    "        \"\"\"\n",
    "        Output should be a simple statement describing the usage metrics found.\n",
    "        \"\"\")),\n",
    "    agent=agent_1,\n",
    "    output_file=f'output-files/agent_1-output_{datetime.datetime.now().strftime(\"%Y%m%d_%H%M%S\")}.md'\n",
    "    # ↑ The output of each task iteration will be saved here\n",
    ")\n",
    "\n"
   ]
  },
  {
   "cell_type": "code",
   "execution_count": 99,
   "id": "ea9770d2-5185-4321-ac19-02d7974564ff",
   "metadata": {},
   "outputs": [],
   "source": [
    "def crew_launch(input):\n",
    "    # Instantiate your crew with a sequential process\n",
    "    crew = Crew(\n",
    "        agents=[agent_1],\n",
    "        tasks=[task_1],\n",
    "        verbose=True,  # You can set it to True or False\n",
    "        # ↑ indicates the verbosity level for logging during execution.\n",
    "        process=Process.sequential\n",
    "        # ↑ the process flow that the crew will follow (e.g., sequential, hierarchical).\n",
    "    )\n",
    "\n",
    "    inputs = {\n",
    "    \"req_input\": req_input,\n",
    "    }\n",
    "\n",
    "    result = crew.kickoff(inputs=inputs)\n",
    "    print(\"\\n\\n########################\")\n",
    "    print(\"## Here is your custom crew run result:\")\n",
    "    print(\"########################\\n\")\n",
    "    print(result)\n",
    "    \n",
    "    return result"
   ]
  },
  {
   "cell_type": "code",
   "execution_count": 94,
   "id": "1f137819-8707-4cb8-bb55-77f9a0f290f8",
   "metadata": {},
   "outputs": [
    {
     "name": "stdout",
     "output_type": "stream",
     "text": [
      "## Welcome to the Test Crew\n"
     ]
    },
    {
     "name": "stdin",
     "output_type": "stream",
     "text": [
      "What would you like to know?\n",
      " what are the 4 most recent support cases opened by exxon?\n"
     ]
    }
   ],
   "source": [
    "print(\"## Welcome to the Test Crew\")\n",
    "req_input = input(\"What would you like to know?\\n\")"
   ]
  },
  {
   "cell_type": "code",
   "execution_count": 100,
   "id": "782dc79d-35ef-4f35-85b6-0708ebcbd008",
   "metadata": {},
   "outputs": [
    {
     "name": "stderr",
     "output_type": "stream",
     "text": [
      "2024-09-17 19:13:13,600 - 140156213696320 - __init__.py-__init__:538 - WARNING: Overriding of current TracerProvider is not allowed\n"
     ]
    },
    {
     "name": "stdout",
     "output_type": "stream",
     "text": [
      "\u001b[1m\u001b[95m# Agent:\u001b[00m \u001b[1m\u001b[92m\n",
      "Customer information lookup assistant.\n",
      "\u001b[00m\n",
      "\u001b[95m## Task:\u001b[00m \u001b[92m\n",
      "Attempt to answer the user question about the customer\n",
      "---\n",
      "User Input: \"what are the 4 most recent support cases opened by exxon?\"\n",
      "\u001b[00m\n"
     ]
    },
    {
     "name": "stderr",
     "output_type": "stream",
     "text": [
      "/home/cdsw/.local/lib/python3.10/site-packages/urllib3/connectionpool.py:1099: InsecureRequestWarning: Unverified HTTPS request is being made to host 'hack.cdsw.edh.cloudera.com'. Adding certificate verification is strongly advised. See: https://urllib3.readthedocs.io/en/latest/advanced-usage.html#tls-warnings\n",
      "  warnings.warn(\n"
     ]
    },
    {
     "name": "stdout",
     "output_type": "stream",
     "text": [
      "\n",
      "Data Request being sent is:\n",
      " {\n",
      "  \"version\": 1,\n",
      "  \"type\": \"SQL\",\n",
      "  \"limit\": 4,\n",
      "  \"dimensions\": [\n",
      "    {\n",
      "      \"type\": \"SIMPLE\",\n",
      "      \"expr\": \"[casenumber] as 'casenumber'\"\n",
      "    },\n",
      "    {\n",
      "      \"type\": \"SIMPLE\",\n",
      "      \"expr\": \"[subject] as 'subject'\"\n",
      "    },\n",
      "    {\n",
      "      \"type\": \"SIMPLE\",\n",
      "      \"expr\": \"[name] as 'name'\"\n",
      "    },\n",
      "    {\n",
      "      \"type\": \"SIMPLE\",\n",
      "      \"expr\": \"[status] as 'status'\"\n",
      "    },\n",
      "    {\n",
      "      \"type\": \"SIMPLE\",\n",
      "      \"expr\": \"[createddatetime] as 'createddatetime'\",\n",
      "      \"order\": {\n",
      "        \"asc\": false,\n",
      "        \"pri\": 1\n",
      "      }\n",
      "    }\n",
      "  ],\n",
      "  \"filters\": [\n",
      "    \"lower([name]) LIKE '%exxon%'\"\n",
      "  ],\n",
      "  \"dataset_id\": 514\n",
      "}\n",
      "\n",
      "Data Response returned is:\n",
      " {\n",
      "  \"colnames\": [\n",
      "    \"casenumber\",\n",
      "    \"subject\",\n",
      "    \"name\",\n",
      "    \"status\",\n",
      "    \"createddatetime\"\n",
      "  ],\n",
      "  \"coltypes\": [\n",
      "    \"STRING\",\n",
      "    \"STRING\",\n",
      "    \"STRING\",\n",
      "    \"STRING\",\n",
      "    \"TIMESTAMP\"\n",
      "  ],\n",
      "  \"rows\": \"[[\\\"1070005\\\",\\\"Ranger is failing to accscs policies\\\",\\\"ExxonMobil\\\",\\\"New\\\",\\\"2024-09-17 14:16:17\\\"],[\\\"1069941\\\",\\\"Cluster- Nifi Service is down\\\",\\\"ExxonMobil\\\",\\\"Awaiting Customer Response\\\",\\\"2024-09-17 10:15:29\\\"],[\\\"1069928\\\",\\\"Vulnerability - HTTP header disclosing Server information\\\",\\\"ExxonMobil\\\",\\\"Awaiting Customer Response\\\",\\\"2024-09-17 09:26:23\\\"],[\\\"1069798\\\",\\\"API service\\\",\\\"ExxonMobil\\\",\\\"Solution Proposed\\\",\\\"2024-09-16 18:21:50\\\"]]\",\n",
      "  \"rowcount\": 4,\n",
      "  \"info\": [\n",
      "    \"Query:/* widget=None, app=None, ds=514 */ \\nSELECT TA_0.`casenumber` as `casenumber`, TA_0.`subject` as `subject`, TA_0.`name` as `name`, TA_0.`status` as `status`, TA_0.`createddatetime` as `createddatetime`\\n  FROM (SELECT casenumber, subject, name, status, createddatetime FROM sfdc.cases, sfdc.account\\nWHERE cases.accountid = account.id) TA_0 \\n  WHERE (lower((TA_0.`name`)) LIKE '%exxon%')\\n  ORDER BY 5 DESC\\n  LIMIT 4\"\n",
      "  ],\n",
      "  \"query_warnings\": {\n",
      "    \"inf\": [],\n",
      "    \"nan\": []\n",
      "  }\n",
      "}\n",
      "\n",
      "\n",
      "\u001b[1m\u001b[95m# Agent:\u001b[00m \u001b[1m\u001b[92m\n",
      "Customer information lookup assistant.\n",
      "\u001b[00m\n",
      "\u001b[95m## Thought:\u001b[00m \u001b[92mThought: To answer the user's question, I need to retrieve the 4 most recent support cases opened by Exxon.\u001b[00m\n",
      "\u001b[95m## Using tool:\u001b[00m \u001b[92mCDVCaseLookupTool\u001b[00m\n",
      "\u001b[95m## Tool Input:\u001b[00m \u001b[92m\n",
      "{\n",
      "  \"customer\": \"Exxon\",\n",
      "  \"number\": 4\n",
      "}\u001b[00m\n",
      "\u001b[95m## Tool Output:\u001b[00m \u001b[92m\n",
      "{\"schema\":{\"fields\":[{\"name\":\"index\",\"type\":\"integer\"},{\"name\":\"casenumber\",\"type\":\"string\"},{\"name\":\"subject\",\"type\":\"string\"},{\"name\":\"name\",\"type\":\"string\"},{\"name\":\"status\",\"type\":\"string\"},{\"name\":\"createddatetime\",\"type\":\"string\"}],\"primaryKey\":[\"index\"],\"pandas_version\":\"1.4.0\"},\"data\":[{\"index\":0,\"casenumber\":\"1070005\",\"subject\":\"Ranger is failing to accscs policies\",\"name\":\"ExxonMobil\",\"status\":\"New\",\"createddatetime\":\"2024-09-17 14:16:17\"},{\"index\":1,\"casenumber\":\"1069941\",\"subject\":\"Cluster- Nifi Service is down\",\"name\":\"ExxonMobil\",\"status\":\"Awaiting Customer Response\",\"createddatetime\":\"2024-09-17 10:15:29\"},{\"index\":2,\"casenumber\":\"1069928\",\"subject\":\"Vulnerability - HTTP header disclosing Server information\",\"name\":\"ExxonMobil\",\"status\":\"Awaiting Customer Response\",\"createddatetime\":\"2024-09-17 09:26:23\"},{\"index\":3,\"casenumber\":\"1069798\",\"subject\":\"API service\",\"name\":\"ExxonMobil\",\"status\":\"Solution Proposed\",\"createddatetime\":\"2024-09-16 18:21:50\"}]}\u001b[00m\n",
      "\n",
      "\n",
      "\u001b[1m\u001b[95m# Agent:\u001b[00m \u001b[1m\u001b[92m\n",
      "Customer information lookup assistant.\n",
      "\u001b[00m\n",
      "\u001b[95m## Final Answer:\u001b[00m \u001b[92m\n",
      "The 4 most recent support cases opened by Exxon are:\n",
      "\n",
      "1. Case Number: 1070005 - Subject: \"Ranger is failing to access policies\" - Status: New - Created: 2024-09-17 14:16:17\n",
      "2. Case Number: 1069941 - Subject: \"Cluster- Nifi Service is down\" - Status: Awaiting Customer Response - Created: 2024-09-17 10:15:29\n",
      "3. Case Number: 1069928 - Subject: \"Vulnerability - HTTP header disclosing Server information\" - Status: Awaiting Customer Response - Created: 2024-09-17 09:26:23\n",
      "4. Case Number: 1069798 - Subject: \"API service\" - Status: Solution Proposed - Created: 2024-09-16 18:21:50\u001b[00m\n",
      "\n",
      "\n",
      "########################\n",
      "## Here is your custom crew run result:\n",
      "########################\n",
      "\n",
      "The 4 most recent support cases opened by Exxon are:\n",
      "\n",
      "1. Case Number: 1070005 - Subject: \"Ranger is failing to access policies\" - Status: New - Created: 2024-09-17 14:16:17\n",
      "2. Case Number: 1069941 - Subject: \"Cluster- Nifi Service is down\" - Status: Awaiting Customer Response - Created: 2024-09-17 10:15:29\n",
      "3. Case Number: 1069928 - Subject: \"Vulnerability - HTTP header disclosing Server information\" - Status: Awaiting Customer Response - Created: 2024-09-17 09:26:23\n",
      "4. Case Number: 1069798 - Subject: \"API service\" - Status: Solution Proposed - Created: 2024-09-16 18:21:50\n"
     ]
    },
    {
     "data": {
      "text/plain": [
       "CrewOutput(raw='The 4 most recent support cases opened by Exxon are:\\n\\n1. Case Number: 1070005 - Subject: \"Ranger is failing to access policies\" - Status: New - Created: 2024-09-17 14:16:17\\n2. Case Number: 1069941 - Subject: \"Cluster- Nifi Service is down\" - Status: Awaiting Customer Response - Created: 2024-09-17 10:15:29\\n3. Case Number: 1069928 - Subject: \"Vulnerability - HTTP header disclosing Server information\" - Status: Awaiting Customer Response - Created: 2024-09-17 09:26:23\\n4. Case Number: 1069798 - Subject: \"API service\" - Status: Solution Proposed - Created: 2024-09-16 18:21:50', pydantic=None, json_dict=None, tasks_output=[TaskOutput(description='\\nAttempt to answer the user question about the customer\\n---\\nUser Input: \"what are the 4 most recent support cases opened by exxon?\"\\n', name=None, expected_output='\\nOutput should be a well formatted list or statement with the results of the user request.\\n', summary='\\nAttempt to answer the user question about the customer\\n---\\nUser Input:...', raw='The 4 most recent support cases opened by Exxon are:\\n\\n1. Case Number: 1070005 - Subject: \"Ranger is failing to access policies\" - Status: New - Created: 2024-09-17 14:16:17\\n2. Case Number: 1069941 - Subject: \"Cluster- Nifi Service is down\" - Status: Awaiting Customer Response - Created: 2024-09-17 10:15:29\\n3. Case Number: 1069928 - Subject: \"Vulnerability - HTTP header disclosing Server information\" - Status: Awaiting Customer Response - Created: 2024-09-17 09:26:23\\n4. Case Number: 1069798 - Subject: \"API service\" - Status: Solution Proposed - Created: 2024-09-16 18:21:50', pydantic=None, json_dict=None, agent='\\nCustomer information lookup assistant.\\n', output_format=<OutputFormat.RAW: 'raw'>)], token_usage=UsageMetrics(total_tokens=1605, prompt_tokens=1368, completion_tokens=237, successful_requests=2))"
      ]
     },
     "execution_count": 100,
     "metadata": {},
     "output_type": "execute_result"
    }
   ],
   "source": [
    "crew_launch(req_input)"
   ]
  },
  {
   "cell_type": "code",
   "execution_count": null,
   "id": "295571d0-8c1a-4b83-bbce-8fc0b8fabfe2",
   "metadata": {},
   "outputs": [],
   "source": []
  },
  {
   "cell_type": "code",
   "execution_count": null,
   "id": "05c3132c-e5b4-44f0-87de-994aa678a049",
   "metadata": {},
   "outputs": [],
   "source": []
  }
 ],
 "metadata": {
  "kernelspec": {
   "display_name": "Python 3 (ipykernel)",
   "language": "python",
   "name": "python3"
  },
  "language_info": {
   "codemirror_mode": {
    "name": "ipython",
    "version": 3
   },
   "file_extension": ".py",
   "mimetype": "text/x-python",
   "name": "python",
   "nbconvert_exporter": "python",
   "pygments_lexer": "ipython3",
   "version": "3.10.13"
  }
 },
 "nbformat": 4,
 "nbformat_minor": 5
}
